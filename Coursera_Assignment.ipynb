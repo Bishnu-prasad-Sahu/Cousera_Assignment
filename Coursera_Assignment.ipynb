{
  "nbformat": 4,
  "nbformat_minor": 0,
  "metadata": {
    "colab": {
      "provenance": []
    },
    "kernelspec": {
      "name": "python3",
      "display_name": "Python 3"
    },
    "language_info": {
      "name": "python"
    }
  },
  "cells": [
    {
      "cell_type": "markdown",
      "source": [
        "# Data Science Tools and Ecosystem\n"
      ],
      "metadata": {
        "id": "WUK9Fn3tGWg6"
      }
    },
    {
      "cell_type": "markdown",
      "source": [
        "## Introduction\n",
        "In this notebook, we will summarize the tools and ecosystems used by data scientists.\n",
        "We will list popular languages, libraries, and tools that are part of data science.\n"
      ],
      "metadata": {
        "id": "SUF8VWfPGcnU"
      }
    },
    {
      "cell_type": "markdown",
      "source": [
        "## Data Science Languages\n",
        "Some of the popular languages that Data Scientists use are:\n",
        "1. Python\n",
        "2. R\n",
        "3. SQL\n",
        "4. Julia\n",
        "5. Scala\n"
      ],
      "metadata": {
        "id": "mos9m8tkGgsj"
      }
    },
    {
      "cell_type": "markdown",
      "source": [
        "## Data Science Libraries\n",
        "Some of the commonly used libraries used by Data Scientists include:\n",
        "1. NumPy\n",
        "2. Pandas\n",
        "3. Matplotlib\n",
        "4. Scikit-learn\n",
        "5. TensorFlow\n"
      ],
      "metadata": {
        "id": "BiTFd-LIGlFS"
      }
    },
    {
      "cell_type": "markdown",
      "source": [
        "## Data Science Tools\n",
        "\n",
        "| Tool | Category | Description |\n",
        "|------|-----------|-------------|\n",
        "| Jupyter Notebook | IDE | Interactive environment for running code and visualizing output |\n",
        "| RStudio | IDE | Tool for R programming |\n",
        "| Apache Spark | Framework | Big data processing engine |\n",
        "| TensorFlow | Library | Machine learning framework |\n"
      ],
      "metadata": {
        "id": "uxmToILYGsG_"
      }
    },
    {
      "cell_type": "markdown",
      "source": [
        "## Arithmetic Expression Examples\n",
        "Below are examples of evaluating arithmetic expressions in Python.\n"
      ],
      "metadata": {
        "id": "jDjPLnG1GvSn"
      }
    },
    {
      "cell_type": "code",
      "execution_count": 1,
      "metadata": {
        "colab": {
          "base_uri": "https://localhost:8080/"
        },
        "id": "59Yd79hoGC2w",
        "outputId": "79e9a979-85dd-419d-c07d-5ff4badd4388"
      },
      "outputs": [
        {
          "output_type": "execute_result",
          "data": {
            "text/plain": [
              "17"
            ]
          },
          "metadata": {},
          "execution_count": 1
        }
      ],
      "source": [
        "(3*4) + 5\n"
      ]
    },
    {
      "cell_type": "code",
      "source": [
        "minutes = 200\n",
        "hours = minutes / 60\n",
        "hours\n"
      ],
      "metadata": {
        "colab": {
          "base_uri": "https://localhost:8080/"
        },
        "id": "oGOmjtB-G4JH",
        "outputId": "b56cc695-28ac-44c7-bd26-cb5d45f678ae"
      },
      "execution_count": 2,
      "outputs": [
        {
          "output_type": "execute_result",
          "data": {
            "text/plain": [
              "3.3333333333333335"
            ]
          },
          "metadata": {},
          "execution_count": 2
        }
      ]
    },
    {
      "cell_type": "markdown",
      "source": [
        "## Objectives\n",
        "- List popular languages used by Data Scientists\n",
        "- Identify commonly used libraries\n",
        "- Create simple arithmetic expressions\n",
        "- Convert units using Python\n"
      ],
      "metadata": {
        "id": "jlp5mkAZG8C_"
      }
    },
    {
      "cell_type": "markdown",
      "source": [
        "## Author\n",
        "**Name:** Bishnu Prasad\n"
      ],
      "metadata": {
        "id": "UcwiNCJmG9Co"
      }
    }
  ]
}